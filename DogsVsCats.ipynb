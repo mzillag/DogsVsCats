{
 "cells": [
  {
   "cell_type": "code",
   "execution_count": 2,
   "metadata": {},
   "outputs": [],
   "source": [
    "import os\n",
    "import cv2\n",
    "import numpy as np\n",
    "import mlflow\n",
    "import joblib\n",
    "from sklearn.pipeline import make_pipeline\n",
    "from sklearn.pipeline import Pipeline\n",
    "from sklearn.svm import SVC\n",
    "from sklearn.linear_model import SGDClassifier\n",
    "from sklearn.neural_network import MLPClassifier\n",
    "from sklearn.decomposition import PCA\n",
    "from sklearn.preprocessing import StandardScaler\n",
    "from sklearn.preprocessing import MinMaxScaler\n",
    "from sklearn.model_selection import GridSearchCV\n",
    "from sklearn.model_selection import train_test_split\n",
    "from sklearn.multiclass import OneVsRestClassifier\n",
    "from sklearn.metrics import classification_report\n",
    "from sklearn.metrics import accuracy_score\n",
    "from sklearn.metrics import log_loss\n",
    "from keras_balanced_batch_generator import make_generator\n",
    "from matplotlib import pyplot as plt\n",
    "from matplotlib.image import imread"
   ]
  },
  {
   "cell_type": "markdown",
   "metadata": {},
   "source": [
    "## Prepare data"
   ]
  },
  {
   "cell_type": "code",
   "execution_count": 3,
   "metadata": {},
   "outputs": [],
   "source": [
    "examples = []\n",
    "labels = []\n",
    "\n",
    "for file in os.listdir(\"train\"):\n",
    "    img = cv2.resize(cv2.imread('train/' + file, 0), (200, 200), interpolation = cv2.INTER_CUBIC)\n",
    "    examples.append(img)\n",
    "    if file.startswith('cat'):\n",
    "        labels.append(0)\n",
    "    else:\n",
    "        labels.append(1)"
   ]
  },
  {
   "cell_type": "markdown",
   "metadata": {},
   "source": [
    "## Descriptor"
   ]
  },
  {
   "cell_type": "code",
   "execution_count": 4,
   "metadata": {},
   "outputs": [],
   "source": [
    "winSize = (200, 200)\n",
    "blockSize = (100, 100)\n",
    "blockStride = (20, 20)\n",
    "cellSize = (50, 50)\n",
    "    \n",
    "def get_hog():\n",
    "    nbins = 9\n",
    "    derivAperture = 1\n",
    "    winSigma = -1.\n",
    "    histogramNormType = 0\n",
    "    L2HysThreshold = 0.2\n",
    "    gammaCorrection = 1\n",
    "    nlevels = 64\n",
    "    signedGradient = True\n",
    "\n",
    "    hog = cv2.HOGDescriptor(winSize, blockSize, blockStride, cellSize, nbins, derivAperture, winSigma,\n",
    "                            histogramNormType, L2HysThreshold, gammaCorrection, nlevels, signedGradient)\n",
    "\n",
    "    return hog"
   ]
  },
  {
   "cell_type": "code",
   "execution_count": 5,
   "metadata": {},
   "outputs": [],
   "source": [
    "hog = get_hog()"
   ]
  },
  {
   "cell_type": "code",
   "execution_count": 6,
   "metadata": {},
   "outputs": [],
   "source": [
    "hog_descriptors = []\n",
    "for img in examples:\n",
    "    hog_descriptors.append(hog.compute(img))\n",
    "hog_descriptors = np.squeeze(hog_descriptors)"
   ]
  },
  {
   "cell_type": "code",
   "execution_count": 7,
   "metadata": {},
   "outputs": [],
   "source": [
    "train_n = int(0.9 * len(hog_descriptors))\n",
    "train_examples, test_examples, train_hog_descriptors, test_hog_descriptors, train_labels, test_labels =\\\n",
    "    train_test_split(examples, hog_descriptors, labels, test_size=0.1, random_state=42, stratify = labels)\n",
    "train_examples, test_examples, train_hog_descriptors, test_hog_descriptors, train_labels, test_labels =\\\n",
    "    np.array(train_examples), np.array(test_examples), np.array(train_hog_descriptors), np.array(test_hog_descriptors), np.array(train_labels), np.array(test_labels) \n",
    "#train_hog_descriptors, test_hog_descriptors, train_labels, test_labels = train_test_split(hog_descriptors, labels, test_size=0.1, random_state=42, stratify = labels)"
   ]
  },
  {
   "cell_type": "code",
   "execution_count": null,
   "metadata": {},
   "outputs": [],
   "source": [
    "train_hog_descriptors.shape"
   ]
  },
  {
   "cell_type": "markdown",
   "metadata": {},
   "source": [
    "## Grid search"
   ]
  },
  {
   "cell_type": "code",
   "execution_count": 19,
   "metadata": {},
   "outputs": [],
   "source": [
    "# parameters = {\"SVM__C\": np.linspace(0.2, 0.4, 6),\n",
    "#              \"SVM__gamma\": np.linspace(0.002, 0.004, 6),\n",
    "#              \"SVM__kernel\": ['poly']}"
   ]
  },
  {
   "cell_type": "code",
   "execution_count": 20,
   "metadata": {},
   "outputs": [
    {
     "data": {
      "text/plain": [
       "GridSearchCV(estimator=Pipeline(steps=[('StandardScaler', StandardScaler()),\n",
       "                                       ('SVM', SVC())]),\n",
       "             n_jobs=-1,\n",
       "             param_grid={'SVM__C': array([0.2 , 0.24, 0.28, 0.32, 0.36, 0.4 ]),\n",
       "                         'SVM__gamma': array([0.002 , 0.0024, 0.0028, 0.0032, 0.0036, 0.004 ]),\n",
       "                         'SVM__kernel': ['poly']})"
      ]
     },
     "execution_count": 20,
     "metadata": {},
     "output_type": "execute_result"
    }
   ],
   "source": [
    "# pipeline = Pipeline(steps=[('StandardScaler', StandardScaler()), ('SVM', SVC())])\n",
    "# clf = GridSearchCV(pipeline, param_grid=parameters, n_jobs=-1)\n",
    "# clf.fit(train_hog_descriptors[:2500], train_labels[:2500])"
   ]
  },
  {
   "cell_type": "code",
   "execution_count": 21,
   "metadata": {},
   "outputs": [
    {
     "data": {
      "text/plain": [
       "{'SVM__C': 0.28, 'SVM__gamma': 0.0028, 'SVM__kernel': 'poly'}"
      ]
     },
     "execution_count": 21,
     "metadata": {},
     "output_type": "execute_result"
    }
   ],
   "source": [
    "# clf.best_params_"
   ]
  },
  {
   "cell_type": "markdown",
   "metadata": {},
   "source": [
    "## Algorithm"
   ]
  },
  {
   "cell_type": "code",
   "execution_count": 8,
   "metadata": {},
   "outputs": [
    {
     "name": "stdout",
     "output_type": "stream",
     "text": [
      "clf fitted\n"
     ]
    }
   ],
   "source": [
    "params = {\n",
    "#     'activation': 'relu',\n",
    "#     'batch_size': 128,\n",
    "#     'early_stopping': True,\n",
    "#     'hidden_layer_sizes': (1000, 800, 600),\n",
    "#     'learning_rate': 'adaptive',\n",
    "#     'learning_rate_init': 0.03,\n",
    "#     'n_iter_no_change': 30,\n",
    "#     'random_state': 42,\n",
    "#     'solver': 'sgd',\n",
    "#     'verbose': True\n",
    "    'C': 1.9,\n",
    "    'gamma': 0.00092\n",
    "}\n",
    "\n",
    "model = SVC(**params)\n",
    "clf = make_pipeline(StandardScaler(), model)\n",
    "clf.fit(train_hog_descriptors, train_labels)\n",
    "print(\"clf fitted\")\n",
    "\n",
    "pred = clf.predict(test_hog_descriptors)"
   ]
  },
  {
   "cell_type": "code",
   "execution_count": 9,
   "metadata": {},
   "outputs": [
    {
     "name": "stdout",
     "output_type": "stream",
     "text": [
      "82.64\n"
     ]
    }
   ],
   "source": [
    "accuracy = (accuracy_score(pred, test_labels)*100)\n",
    "print(accuracy)"
   ]
  },
  {
   "cell_type": "code",
   "execution_count": 10,
   "metadata": {},
   "outputs": [
    {
     "name": "stdout",
     "output_type": "stream",
     "text": [
      "              precision    recall  f1-score   support\n",
      "\n",
      "           0       0.83      0.83      0.83      1250\n",
      "           1       0.83      0.83      0.83      1250\n",
      "\n",
      "    accuracy                           0.83      2500\n",
      "   macro avg       0.83      0.83      0.83      2500\n",
      "weighted avg       0.83      0.83      0.83      2500\n",
      "\n"
     ]
    }
   ],
   "source": [
    "print(classification_report(test_labels, pred))"
   ]
  },
  {
   "cell_type": "markdown",
   "metadata": {},
   "source": [
    "## Adding model to MLFlow"
   ]
  },
  {
   "cell_type": "code",
   "execution_count": 186,
   "metadata": {},
   "outputs": [],
   "source": [
    "# experiment_name = \"SVM\"\n",
    "# mlflow.set_experiment(experiment_name)\n",
    "# with mlflow.start_run():\n",
    "#     # Log SVM params\n",
    "#     for param in params.keys():\n",
    "#         mlflow.log_param(param, params[param])\n",
    "#     # Log metrics\n",
    "#     mlflow.log_metric(\"accuracy\", accuracy)"
   ]
  },
  {
   "cell_type": "markdown",
   "metadata": {},
   "source": [
    "## Saving model"
   ]
  },
  {
   "cell_type": "code",
   "execution_count": 11,
   "metadata": {},
   "outputs": [
    {
     "data": {
      "text/plain": [
       "['SVM.sav']"
      ]
     },
     "execution_count": 11,
     "metadata": {},
     "output_type": "execute_result"
    }
   ],
   "source": [
    "filename = 'SVM.sav'\n",
    "joblib.dump(clf, filename)"
   ]
  },
  {
   "cell_type": "markdown",
   "metadata": {},
   "source": [
    "## Load model"
   ]
  },
  {
   "cell_type": "code",
   "execution_count": null,
   "metadata": {},
   "outputs": [],
   "source": [
    "# loaded_model = joblib.load('SVM.sav')"
   ]
  },
  {
   "cell_type": "code",
   "execution_count": 18,
   "metadata": {},
   "outputs": [
    {
     "name": "stdout",
     "output_type": "stream",
     "text": [
      "100.0\n"
     ]
    },
    {
     "data": {
      "text/plain": [
       "<matplotlib.image.AxesImage at 0x7f4ce26985d0>"
      ]
     },
     "execution_count": 18,
     "metadata": {},
     "output_type": "execute_result"
    },
    {
     "data": {
      "image/png": "[encoded data removed]",
      "text/plain": [
       "<Figure size 432x288 with 1 Axes>"
      ]
     },
     "metadata": {
      "needs_background": "light"
     },
     "output_type": "display_data"
    }
   ],
   "source": [
    "kitty = cv2.resize(cv2.imread('my_test/kitty3.jpg', 0), (200, 200), interpolation = cv2.INTER_CUBIC)\n",
    "\n",
    "my_hog_descriptors = []\n",
    "my_hog_descriptors.append(hog.compute(kitty))\n",
    "my_hog_descriptors = np.squeeze(my_hog_descriptors)\n",
    "my_labels = np.array([0])\n",
    "\n",
    "my_hog_descriptors.reshape(-1, 1).T.shape\n",
    "print(accuracy_score(clf.predict(my_hog_descriptors.reshape(-1, 1).T), my_labels)*100)\n",
    "plt.imshow(kitty, cmap = 'gray')"
   ]
  }
 ],
 "metadata": {
  "kernelspec": {
   "display_name": "Python 3",
   "language": "python",
   "name": "python3"
  },
  "language_info": {
   "codemirror_mode": {
    "name": "ipython",
    "version": 3
   },
   "file_extension": ".py",
   "mimetype": "text/x-python",
   "name": "python",
   "nbconvert_exporter": "python",
   "pygments_lexer": "ipython3",
   "version": "3.7.9"
  }
 },
 "nbformat": 4,
 "nbformat_minor": 4
}
