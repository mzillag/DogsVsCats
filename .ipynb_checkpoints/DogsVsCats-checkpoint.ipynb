{
 "cells": [
  {
   "cell_type": "code",
   "execution_count": 1,
   "metadata": {},
   "outputs": [],
   "source": [
    "import os\n",
    "import cv2\n",
    "import numpy as np\n",
    "import mlflow\n",
    "import joblib\n",
    "from sklearn.pipeline import make_pipeline\n",
    "from sklearn.pipeline import Pipeline\n",
    "from sklearn.svm import SVC\n",
    "from sklearn.linear_model import SGDClassifier\n",
    "from sklearn.neural_network import MLPClassifier\n",
    "from sklearn.decomposition import PCA\n",
    "from sklearn.preprocessing import StandardScaler\n",
    "from sklearn.preprocessing import MinMaxScaler\n",
    "from sklearn.model_selection import GridSearchCV\n",
    "from sklearn.model_selection import train_test_split\n",
    "from sklearn.multiclass import OneVsRestClassifier\n",
    "from sklearn.metrics import classification_report\n",
    "from sklearn.metrics import accuracy_score\n",
    "from sklearn.metrics import log_loss\n",
    "from keras_balanced_batch_generator import make_generator\n",
    "from matplotlib import pyplot as plt\n",
    "from matplotlib.image import imread"
   ]
  },
  {
   "cell_type": "markdown",
   "metadata": {},
   "source": [
    "## Prepare data"
   ]
  },
  {
   "cell_type": "code",
   "execution_count": 2,
   "metadata": {},
   "outputs": [],
   "source": [
    "examples = []\n",
    "labels = []\n",
    "\n",
    "for file in os.listdir(\"train\"):\n",
    "    img = cv2.resize(cv2.imread('train/' + file, 0), (200, 200), interpolation = cv2.INTER_CUBIC)\n",
    "    examples.append(img)\n",
    "    if file.startswith('cat'):\n",
    "        labels.append(0)\n",
    "    else:\n",
    "        labels.append(1)\n",
    "\n",
    "#examples = np.array(examples\n",
    "#labels = np.array(labels, dtype=object)"
   ]
  },
  {
   "cell_type": "code",
   "execution_count": null,
   "metadata": {},
   "outputs": [],
   "source": [
    "type(examples[0])\n",
    "# print(labels[:10])\n",
    "# print(examples[:10])\n",
    "# plt.imshow(examples[3], cmap='gray')\n",
    "# print(os.listdir(\"train\"))"
   ]
  },
  {
   "cell_type": "markdown",
   "metadata": {},
   "source": [
    "## Descriptor"
   ]
  },
  {
   "cell_type": "code",
   "execution_count": 3,
   "metadata": {},
   "outputs": [],
   "source": [
    "winSize = (200, 200)\n",
    "blockSize = (100, 100)\n",
    "blockStride = (20, 20)\n",
    "cellSize = (50, 50)\n",
    "    \n",
    "def get_hog():\n",
    "    nbins = 9\n",
    "    derivAperture = 1\n",
    "    winSigma = -1.\n",
    "    histogramNormType = 0\n",
    "    L2HysThreshold = 0.2\n",
    "    gammaCorrection = 1\n",
    "    nlevels = 64\n",
    "    signedGradient = True\n",
    "\n",
    "    hog = cv2.HOGDescriptor(winSize, blockSize, blockStride, cellSize, nbins, derivAperture, winSigma,\n",
    "                            histogramNormType, L2HysThreshold, gammaCorrection, nlevels, signedGradient)\n",
    "\n",
    "    return hog"
   ]
  },
  {
   "cell_type": "code",
   "execution_count": null,
   "metadata": {},
   "outputs": [],
   "source": [
    "#rand = np.random.RandomState(25)\n",
    "#shuffle = rand.permutation(len(examples))\n",
    "#examples, labels = np.array(examples)[shuffle], np.array(labels)[shuffle]"
   ]
  },
  {
   "cell_type": "code",
   "execution_count": 4,
   "metadata": {},
   "outputs": [],
   "source": [
    "hog = get_hog()"
   ]
  },
  {
   "cell_type": "code",
   "execution_count": 5,
   "metadata": {},
   "outputs": [],
   "source": [
    "hog_descriptors = []\n",
    "for img in examples:\n",
    "    hog_descriptors.append(hog.compute(img))\n",
    "hog_descriptors = np.squeeze(hog_descriptors)"
   ]
  },
  {
   "cell_type": "code",
   "execution_count": 6,
   "metadata": {},
   "outputs": [],
   "source": [
    "train_n = int(0.9 * len(hog_descriptors))\n",
    "train_examples, test_examples, train_hog_descriptors, test_hog_descriptors, train_labels, test_labels =\\\n",
    "train_test_split(examples, hog_descriptors, labels, test_size=0.1, random_state=42, stratify = labels)\n",
    "train_examples, test_examples, train_hog_descriptors, test_hog_descriptors, train_labels, test_labels =\\\n",
    "np.array(train_examples), np.array(test_examples), np.array(train_hog_descriptors), np.array(test_hog_descriptors), np.array(train_labels), np.array(test_labels) \n",
    "#train_hog_descriptors, test_hog_descriptors, train_labels, test_labels = train_test_split(hog_descriptors, labels, test_size=0.1, random_state=42, stratify = labels)"
   ]
  },
  {
   "cell_type": "code",
   "execution_count": null,
   "metadata": {},
   "outputs": [],
   "source": [
    "train_hog_descriptors.shape"
   ]
  },
  {
   "cell_type": "markdown",
   "metadata": {},
   "source": [
    "## Grid search"
   ]
  },
  {
   "cell_type": "code",
   "execution_count": null,
   "metadata": {},
   "outputs": [],
   "source": [
    "# parameters = {\"SVM__C\": np.linspace(4.875, 4.877, 11),\n",
    "#              \"SVM__gamma\": np.linspace(0.536, 0.538, 11),\n",
    "#              \"SVM__kernel\": [\"sigmoid\"]}"
   ]
  },
  {
   "cell_type": "code",
   "execution_count": null,
   "metadata": {},
   "outputs": [],
   "source": [
    "# pipeline = Pipeline(steps=[('StandardScaler', StandardScaler()), ('SVM', SVC())])\n",
    "# clf = GridSearchCV(pipeline, param_grid=parameters, n_jobs=-1)\n",
    "# clf.fit(train_hog_descriptors[:100], train_labels[:100])"
   ]
  },
  {
   "cell_type": "code",
   "execution_count": null,
   "metadata": {},
   "outputs": [],
   "source": [
    "# clf.best_params_"
   ]
  },
  {
   "cell_type": "markdown",
   "metadata": {},
   "source": [
    "## Algorithm"
   ]
  },
  {
   "cell_type": "code",
   "execution_count": null,
   "metadata": {},
   "outputs": [],
   "source": [
    "params = {\n",
    "    'activation': 'relu',\n",
    "    'batch_size': 128,\n",
    "    'early_stopping': True,\n",
    "    'hidden_layer_sizes': (1000, 800, 600),\n",
    "    'learning_rate': 'adaptive',\n",
    "    'learning_rate_init': 0.03,\n",
    "    'n_iter_no_change': 30,\n",
    "    'random_state': 42,\n",
    "    'solver': 'sgd',\n",
    "    'verbose': True    \n",
    "}\n",
    "\n",
    "model = MLPClassifier(**params)\n",
    "clf = make_pipeline(StandardScaler(), model)\n",
    "clf.fit(train_hog_descriptors, train_labels)\n",
    "print(\"clf fitted\")\n",
    "\n",
    "pred = clf.predict(test_hog_descriptors)"
   ]
  },
  {
   "cell_type": "code",
   "execution_count": 11,
   "metadata": {},
   "outputs": [
    {
     "name": "stdout",
     "output_type": "stream",
     "text": [
      "81.12\n"
     ]
    }
   ],
   "source": [
    "accuracy = (accuracy_score(pred, test_labels)*100)\n",
    "print(accuracy)"
   ]
  },
  {
   "cell_type": "code",
   "execution_count": 12,
   "metadata": {},
   "outputs": [
    {
     "name": "stdout",
     "output_type": "stream",
     "text": [
      "              precision    recall  f1-score   support\n",
      "\n",
      "           0       0.81      0.82      0.81      1250\n",
      "           1       0.82      0.80      0.81      1250\n",
      "\n",
      "    accuracy                           0.81      2500\n",
      "   macro avg       0.81      0.81      0.81      2500\n",
      "weighted avg       0.81      0.81      0.81      2500\n",
      "\n"
     ]
    }
   ],
   "source": [
    "print(classification_report(test_labels, pred))"
   ]
  },
  {
   "cell_type": "code",
   "execution_count": 13,
   "metadata": {},
   "outputs": [],
   "source": [
    "experiment_name = \"MLPClassifier\"\n",
    "mlflow.set_experiment(experiment_name)\n",
    "with mlflow.start_run():\n",
    "    # Log MLP params\n",
    "    for param in params.keys():\n",
    "        mlflow.log_param(param, params[param])\n",
    "    # Log metrics\n",
    "    mlflow.log_metric(\"accuracy\", accuracy)"
   ]
  },
  {
   "cell_type": "markdown",
   "metadata": {},
   "source": [
    "## Saving model"
   ]
  },
  {
   "cell_type": "code",
   "execution_count": 14,
   "metadata": {},
   "outputs": [
    {
     "data": {
      "text/plain": [
       "['MLP.sav']"
      ]
     },
     "execution_count": 14,
     "metadata": {},
     "output_type": "execute_result"
    }
   ],
   "source": [
    "# filename = 'MLP.sav'\n",
    "# joblib.dump(clf, filename)"
   ]
  },
  {
   "cell_type": "markdown",
   "metadata": {},
   "source": [
    "## Load model"
   ]
  },
  {
   "cell_type": "code",
   "execution_count": null,
   "metadata": {},
   "outputs": [],
   "source": [
    "# loaded_model = joblib.load('MLP.sav')"
   ]
  },
  {
   "cell_type": "code",
   "execution_count": null,
   "metadata": {},
   "outputs": [],
   "source": [
    "kitty = cv2.resize(cv2.imread('kitty5.jpg', 0), (100, 100), interpolation = cv2.INTER_CUBIC)\n",
    "\n",
    "my_hog_descriptors = []\n",
    "my_hog_descriptors.append(hog.compute(kitty))\n",
    "my_hog_descriptors = np.squeeze(my_hog_descriptors)\n",
    "my_labels = np.array([0])\n",
    "\n",
    "my_hog_descriptors.reshape(-1, 1).T.shape\n",
    "print(accuracy_score(clf.predict(my_hog_descriptors.reshape(-1, 1).T), my_labels)*100)"
   ]
  },
  {
   "cell_type": "code",
   "execution_count": null,
   "metadata": {},
   "outputs": [],
   "source": [
    "plt.imshow(kitty, cmap = 'gray')"
   ]
  },
  {
   "cell_type": "code",
   "execution_count": null,
   "metadata": {},
   "outputs": [],
   "source": []
  }
 ],
 "metadata": {
  "kernelspec": {
   "display_name": "Python 3",
   "language": "python",
   "name": "python3"
  },
  "language_info": {
   "codemirror_mode": {
    "name": "ipython",
    "version": 3
   },
   "file_extension": ".py",
   "mimetype": "text/x-python",
   "name": "python",
   "nbconvert_exporter": "python",
   "pygments_lexer": "ipython3",
   "version": "3.7.9"
  }
 },
 "nbformat": 4,
 "nbformat_minor": 4
}
